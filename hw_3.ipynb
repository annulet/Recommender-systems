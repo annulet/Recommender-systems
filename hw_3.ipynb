{
 "cells": [
  {
   "cell_type": "markdown",
   "metadata": {},
   "source": [
    "## В качестве домашнего задания ответьте на следующие вопросы:\n",
    "### 1. В чем принципиальные отличия item-item рекомендаций от ALS?"
   ]
  },
  {
   "cell_type": "markdown",
   "metadata": {},
   "source": [
    "- item-item - это не машинное обучение, предсказывают те числа, которые стоят в матрице, основаны на KNN, поэтому очень медленные и ресурсозатратные (нужно держать в памяти попарные расстояния между всеми юзерами)\n",
    "- ALS - машинное обучение, в результате получаем две матрицы эмбеддингов, предсказания можно получить очень быстро, перемножив матрицы"
   ]
  },
  {
   "cell_type": "markdown",
   "metadata": {},
   "source": [
    "### 2. Приведите 3 примера весов user-item матрицы для задачи рекоммендаций товаров"
   ]
  },
  {
   "cell_type": "markdown",
   "metadata": {},
   "source": [
    "пока смотрю вебинар, надеюсь, успею доделать раньше, чем кто-либо успеет это увидеть)"
   ]
  },
  {
   "cell_type": "markdown",
   "metadata": {},
   "source": [
    "### 3. Какие ограничения есть у ALS? (Тип информации, линейность/нелинейность факторов и т д)"
   ]
  },
  {
   "cell_type": "code",
   "execution_count": null,
   "metadata": {},
   "outputs": [],
   "source": []
  }
 ],
 "metadata": {
  "kernelspec": {
   "display_name": "Python 3",
   "language": "python",
   "name": "python3"
  },
  "language_info": {
   "codemirror_mode": {
    "name": "ipython",
    "version": 3
   },
   "file_extension": ".py",
   "mimetype": "text/x-python",
   "name": "python",
   "nbconvert_exporter": "python",
   "pygments_lexer": "ipython3",
   "version": "3.7.6"
  }
 },
 "nbformat": 4,
 "nbformat_minor": 4
}
